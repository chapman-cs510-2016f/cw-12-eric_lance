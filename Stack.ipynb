{
 "cells": [
  {
   "cell_type": "markdown",
   "metadata": {
    "collapsed": false
   },
   "source": [
    "# CW-12 C++:  Fun with Stacks\n",
    "## README Item #4\n",
    "## Lance Clifner, Eric Freda\n",
    "CS-510\n",
    "<br>November 15, 2016"
   ]
  },
  {
   "cell_type": "markdown",
   "metadata": {
    "collapsed": false
   },
   "source": [
    "# The Structure of the Stack Type (i)\n",
    "blah\n",
    "\n",
    "##  Differences in Implementation between Stack in C and C++\n",
    "blah"
   ]
  },
  {
   "cell_type": "markdown",
   "metadata": {
    "collapsed": false
   },
   "source": [
    "# Class & Struct (ii)\n",
    "`Class` is used in object oriented programming to define all those programming elements affiliated with an object or class.  This includes functions (methods) along with data elements.  The data and methods in a class can be classified as public or private, where public elements can be accessed by other programming elements outside the class and private elements can only be accessed by programming elements _inside_ the the class.  All elements in a class default to public.\n",
    "\n",
    "`Struct` is a set of structed memory elements arranged in specific order in memory (whereas the data elements in a class may be arranged in no particular or predictable order).  All data elements in a struct default to  public, and must be explicitly set to private data if privacy is desired for some elements of the struct.\n",
    "\n",
    "While the struct and class can both contain any datatype, including pointers to functions, all the functions (methods) affiliated with a class are implicitly included in that class, whereas if you wanted to mimic a class with a struct (which can be done), you would have to explicitly declare every function pointer as well as explicitly assign every function pointer to point to the correct function."
   ]
  },
  {
   "cell_type": "markdown",
   "metadata": {
    "collapsed": false
   },
   "source": [
    "# Public & Private (iii)\n",
    "The `public` declaration inside a class for methods and variables means that those methods and variables can be 'seen' and accessed by any program element which is aware of that particular class even though the program element is external to the class.\n",
    "\n",
    "The `private` declaration inside a class for methods and variables means that those methods and variables _cannot_ be 'seen' or accessed by any program elements external to the class.  The private methods and variables can only be used by programming element within the class."
   ]
  },
  {
   "cell_type": "markdown",
   "metadata": {
    "collapsed": false
   },
   "source": [
    "# size_t and its uses (iv)\n",
    "`size_t` is generally used to denote the size (in bytes) of something is being measured or counted.  It is an unsigned data type, so it is important to be aware of wrapping issues when size_t variables are used in loops and other conditionals."
   ]
  },
  {
   "cell_type": "markdown",
   "metadata": {
    "collapsed": false
   },
   "source": [
    "# Avoiding C Pointers (v)\n",
    "blah"
   ]
  },
  {
   "cell_type": "markdown",
   "metadata": {
    "collapsed": false
   },
   "source": [
    "# New and Delete (vi)\n",
    "`New` tells the operating system to allocate memory of the size of the object being instantiated and return a handle to the program with the memory for that object.\n",
    "\n",
    "`Delete` tells the operating system to deallocate or free the memory which was allocated for an object.\n",
    "\n",
    "`New` is the equivalent of `malloc()`, where the pointer returned by `malloc()` points to the allocated memory.\n",
    "\n",
    "`Delete` is the equivalent of `free()`, where the program passes the pointer obtained from `malloc()` to `free()` and releases the allocated memory back to the operating system."
   ]
  },
  {
   "cell_type": "markdown",
   "metadata": {
    "collapsed": false
   },
   "source": [
    "# Memory Leaks (vii)\n",
    "A memory leak occurs when memory is allocated by a program and then _never_ released back to the operating system.  This leaked (unreleased) memory, if the leak (or leaks) is occurs repeatedly, can cause a program or even the computer to crash when the available memory is used up.\n",
    "\n",
    "A leak typically occurs when memory is allocated to a pointer or object and that pointer or object is lost without the allocated memory first being released.  A couple examples of reasons that a pointer or object can be lost are:\n",
    "1. If the allocated memory is assigned to a pointer on the local stack of a function, and then the program exits that function (which causes that pointer to be lost) without releasing the memory.  Since the pointer (or handle) to the allocated memory has now been lost, the program cannot ever free the allocated memory, since the program doesn't know where it is.\n",
    "1. If the allocated memory is assigned to a pointer variable, and then that pointer variable gets overwritten without the allocated memory being released.  Once the memory pointer is overwritten, the reference (or handle) to the allocated is lost and cannot be recovered.\n",
    "\n",
    "Note that in most operating systems, when a program is terminated, the operating system is able to recover all of the leaked memory, as the operating system's memory management does keep track of all memory allocated by a particular program while that program is executing.  Once the program ceases execution, the memory management system reclaims any memory allocated to that program."
   ]
  },
  {
   "cell_type": "markdown",
   "metadata": {
    "collapsed": false
   },
   "source": [
    "# unique_ptr (viii)\n",
    "unique_ptr is a pointer typedef in C++ that makes handling memory pointers in C++ much safer than in C.\n",
    "\n",
    "First off, the unique_ptr has ownership of and is solely responsible for managing and releasing the memory or object that it points to.\n",
    "\n",
    "Second, the unique_ptr automatically releases the memory it owns upon the pointer's own deletion.\n",
    "\n",
    "Third, no other pointer or facility can cause the unique_ptr's meory to be deleted.\n",
    "\n",
    "Fourth, the unique_ptr is a pointer to an explicitly declared type and can't be used with a different type.\n",
    "\n",
    "Note that the unique_ptr does not track or manage other pointers that pointed to the unique_ptr's memory.  So, if the unique_ptr is destroyed, those other pointers (if any) will be pointing to invalid memory."
   ]
  },
  {
   "cell_type": "markdown",
   "metadata": {
    "collapsed": false
   },
   "source": [
    "# List Initializer (ix)\n",
    "List initialization is the mechanism for initializing the elements in an object's constructor.  A comma separated list of parameters is passed to the constructur, which are then used to intialize the values in the object."
   ]
  },
  {
   "cell_type": "markdown",
   "metadata": {
    "collapsed": false
   },
   "source": [
    "# \"Rule of Zero\" and \"Rule of Three\" (x)\n",
    "The Rule of Three says that if you must make a custom destructor, or copy constructor, or copy assignment operator, you should make all three of them.  This means that if you need to make a custom version to manage one of these memory management functions for an object, you need to management all of the memory management functions for that object.  If you don't you will likely get yourself into trouble.\n",
    "\n",
    "The Rule of Zero says that, whenever possible, it is preferable for other memory management schemes to manage your memory garbage collection.  You can save yourself a lot of work and debug by using existing, known-good memory management and garbage collection."
   ]
  }
 ],
 "metadata": {
  "kernelspec": {
   "display_name": "Python 2 (SageMath)",
   "language": "python",
   "name": "python2"
  },
  "language_info": {
   "codemirror_mode": {
    "name": "ipython",
    "version": 2
   },
   "file_extension": ".py",
   "mimetype": "text/x-python",
   "name": "python",
   "nbconvert_exporter": "python",
   "pygments_lexer": "ipython2",
   "version": "2.7.10"
  }
 },
 "nbformat": 4,
 "nbformat_minor": 0
}
