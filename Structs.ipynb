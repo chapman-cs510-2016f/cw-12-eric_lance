{
 "cells": [
  {
   "cell_type": "markdown",
   "metadata": {
    "collapsed": false
   },
   "source": [
    "# Structs in C++\n",
    "\n",
    "This code differs from its C equivilant in many ways. In the header file, a ```#define``` guard is used to prevent the header from being loaded twice. The structs defined in C++ automatically get a typedef, so a typedef is not used for the struct in the C++ implimentation. Pass-by-value works the samein C++ as it does in C. Pass-by-reference can be done differently in C++. Using the ```&``` symbol to use a reference as an argument lets you use the ```foo.elem``` syntax instead of using ```foo->elem``` while still altering the argument in place. Function overloading is used to create the function ```set_vec``` so that it works on both 2-vectors and 3-vectors. The ```+``` operator is also overloaded so that it can be used to add two vectors.\n",
    "\n",
    "The ```#define``` guard at the beginning of the header file checks to see if the file has already been loaded by determining if ```CW12_STRUCTS_H_``` has already been defined. If it has, the rest of the header is skipped as it has already been loaded. If it hasn't been defined yet, it is defined so that the header will be skipped if it is imported again. This can be helpful in complicated code where multiple files are interdependent as it prevents circular importing (eg. A imports B imports A ...) and multiple imports of the same file as these will cause errors when previously defined functions are defined again.\n",
    "\n",
    "Type overloading allows you to define functions that share a name that act on different types. This allows you to use the same name for a set of functions that have the same abstract functionality yet act on the different types (eg. a function for multiplying two ints can be overloaded to also work with floats).\n",
    "\n",
    "\"Pass by reference\" in C requires that a pointer be used as argument and the ```->``` operator be used to access elements of the object. In C++, a ```&``` can be used to get the reference to the argument. When done in this way, the \"dot\" operator can be used instead of ```->```. This means that changing between \"pass by reference\" and \"pass by value\" doesn't require changing any of these element accessing operators.\n",
    "\n",
    "Operator type overloading allows you to type overload operators like ```+```, ```*```, ```<<```, ```==```, etc. This means you can define how these operators function when acting on user-defined types. This is useful for simplifying code as it allows you to use the standard operators to work with non-standard types. In the C version of the code, an explicit function was required to add vectors which leads to the unfamiliar syntax ```c = add_vector(a,b)``` where C++ lets you overload ```+``` so the code becomes ```c = a+b``` which looks much better, especially for more complicated expressions."
   ]
  },
  {
   "cell_type": "code",
   "execution_count": null,
   "metadata": {
    "collapsed": true
   },
   "outputs": [],
   "source": []
  }
 ],
 "metadata": {
  "kernelspec": {
   "display_name": "Python 2 (SageMath)",
   "language": "python",
   "name": "python2"
  },
  "language_info": {
   "codemirror_mode": {
    "name": "ipython",
    "version": 2
   },
   "file_extension": ".py",
   "mimetype": "text/x-python",
   "name": "python",
   "nbconvert_exporter": "python",
   "pygments_lexer": "ipython2",
   "version": "2.7.10"
  }
 },
 "nbformat": 4,
 "nbformat_minor": 0
}
