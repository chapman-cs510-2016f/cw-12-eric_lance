{
 "cells": [
  {
   "cell_type": "markdown",
   "metadata": {
    "collapsed": false
   },
   "source": [
    "# Streams in C++"
   ]
  },
  {
   "cell_type": "markdown",
   "metadata": {},
   "source": [
    "### Code analysis\n",
    "\n",
    "This program begins by checking the number of command line arguments. If this is not two, then it prints a message that demonstrates proper usage and exits by returning ```1``` to tell the computer that the program terminated unsucessfully. If there are two arguments, the second argument is printed. The functions ```foo::print()``` and ```bar::print()``` are called and each prints a message. ```foo::print()``` is then pulled into the local scope with ```using``` and is called again as ```print()```. A string is created to hold user input and ```getline``` is used to take an input from the user. Streams are used to parse this string into ```int``` and ```float``` variables that were created and these are outputted to demonstrate the functionality. An output file stream is then created and the file ```output_file.txt``` is opened. A safety check ensures that the file is open and exits with an error if it is not. The values from the program are then written to the file with the ```<<``` operator acting on the output file stream. The file is then closed. The program returns ```0``` to indicate the program functioned normally."
   ]
  },
  {
   "cell_type": "markdown",
   "metadata": {},
   "source": [
    "### Differences between C and C++ code\n",
    "\n",
    "This code makes use of namespaces, streams, and strings -- features not present in C.\n",
    "\n",
    "The operators ```<<``` and ```>>``` and the streams they work with are a powerful feature of C++. These operators pass data around streams. The input is converted to the correct type for the receiving stream. In particular, this greatly simplifies file I/O, since the file can be opened in a stream and manipulated with ```<<``` and ```>>``` operators. These are also used for printing to standard output where ```printf()``` would be used in C. Streams are also used in this code to get command line inputs and to convert that input into both an ```int``` and a ```float```.\n",
    "\n",
    "Namespaces allow you to group functions and variables together in logical groupings for more organized code. A member of a namespace is accessed using ```::``` (eg. ```nspace::func(arg)```). Something that is defined inside a namespace functions the same as it would outside that namespace except for the need to use ```::``` to access them. If something from a namespace is going to be used often, it can be pulled into the local scope with ```using``` which can pull in individual elements of the namespace (eg. ```using nspace::func```) or everything in the namespace (eg. ```using namespace nspace```).\n",
    "\n",
    "The strings used are actual strings, not the array of chars used in C. This makes string manipulations much simpler as you do not need to worry about issues with arrays like fixed size. This also means that C++ strings can be compared using ```==``` while C strings require a special function to compare them."
   ]
  },
  {
   "cell_type": "code",
   "execution_count": null,
   "metadata": {
    "collapsed": true
   },
   "outputs": [],
   "source": []
  }
 ],
 "metadata": {
  "kernelspec": {
   "display_name": "Python 2 (SageMath)",
   "language": "python",
   "name": "python2"
  },
  "language_info": {
   "codemirror_mode": {
    "name": "ipython",
    "version": 2
   },
   "file_extension": ".py",
   "mimetype": "text/x-python",
   "name": "python",
   "nbconvert_exporter": "python",
   "pygments_lexer": "ipython2",
   "version": "2.7.10"
  }
 },
 "nbformat": 4,
 "nbformat_minor": 0
}
